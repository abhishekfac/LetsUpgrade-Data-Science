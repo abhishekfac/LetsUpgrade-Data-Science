{
 "cells": [
  {
   "cell_type": "code",
   "execution_count": 9,
   "metadata": {},
   "outputs": [
    {
     "name": "stdout",
     "output_type": "stream",
     "text": [
      "Cost price: 44\n",
      "Selling Price: 44\n",
      "Neither\n"
     ]
    }
   ],
   "source": [
    "Cost=int(input('Cost price: '))\n",
    "Selling=int(input('Selling Price: '))\n",
    "if(Cost<Selling):\n",
    "    print('Profit')\n",
    "elif(Cost>Selling):\n",
    "    print('Loss')\n",
    "elif(Cost==Selling):\n",
    "    print('Neither')\n",
    "else:\n",
    "    print('Please.....Enter amount in numbers')"
   ]
  }
 ],
 "metadata": {
  "kernelspec": {
   "display_name": "Python 3",
   "language": "python",
   "name": "python3"
  },
  "language_info": {
   "codemirror_mode": {
    "name": "ipython",
    "version": 3
   },
   "file_extension": ".py",
   "mimetype": "text/x-python",
   "name": "python",
   "nbconvert_exporter": "python",
   "pygments_lexer": "ipython3",
   "version": "3.8.3"
  }
 },
 "nbformat": 4,
 "nbformat_minor": 4
}
