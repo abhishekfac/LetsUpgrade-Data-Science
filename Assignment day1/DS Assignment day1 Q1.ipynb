{
 "cells": [
  {
   "cell_type": "code",
   "execution_count": 5,
   "metadata": {},
   "outputs": [
    {
     "name": "stdout",
     "output_type": "stream",
     "text": [
      "Given the following jumbled word, OBANWRI guess the correct English word.\n",
      "\n",
      "\tA. RANIBOW\n",
      "\tB. RAINBOW\n",
      "\tC. BOWRANI\n",
      "\tD. ROBWANI\n",
      "\tB\n",
      "\tRAINBOW is correct.\n"
     ]
    }
   ],
   "source": [
    "print('Given the following jumbled word, OBANWRI guess the correct English word.\\n')\n",
    "print('\\tA. RANIBOW')\n",
    "print('\\tB. RAINBOW')\n",
    "print('\\tC. BOWRANI')\n",
    "print('\\tD. ROBWANI')\n",
    "i=input('\\t')\n",
    "if(i=='A'):\n",
    "    print('\\tRANIBOW is not correct.')\n",
    "elif(i=='B'):\n",
    "    print('\\tRAINBOW is correct.')\n",
    "elif(i=='C'):\n",
    "    print('\\tBOWRANI is not correct.') \n",
    "elif(i=='D'):\n",
    "    print('\\tROBWANI is not correct.') \n",
    "else:\n",
    "    print('\\tChoose from given options.')"
   ]
  }
 ],
 "metadata": {
  "kernelspec": {
   "display_name": "Python 3",
   "language": "python",
   "name": "python3"
  },
  "language_info": {
   "codemirror_mode": {
    "name": "ipython",
    "version": 3
   },
   "file_extension": ".py",
   "mimetype": "text/x-python",
   "name": "python",
   "nbconvert_exporter": "python",
   "pygments_lexer": "ipython3",
   "version": "3.8.3"
  }
 },
 "nbformat": 4,
 "nbformat_minor": 4
}
