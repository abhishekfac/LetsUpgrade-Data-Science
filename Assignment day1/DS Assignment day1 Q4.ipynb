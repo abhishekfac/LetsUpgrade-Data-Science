{
 "cells": [
  {
   "cell_type": "code",
   "execution_count": 5,
   "metadata": {},
   "outputs": [
    {
     "name": "stdout",
     "output_type": "stream",
     "text": [
      "Input\tOutput\n",
      "22\n",
      "30\n",
      "\tProfit\n",
      "50\n",
      "40\n",
      "\tLoss\n",
      "90\n",
      "100\n",
      "\tProfit\n",
      "22\n",
      "20\n",
      "\tLoss\n",
      "50\n",
      "50\n",
      "\tNeither\n",
      "99\n",
      "110\n",
      "\tProfit\n"
     ]
    }
   ],
   "source": [
    "print('Input\\tOutput')\n",
    "for i in range (0,6):\n",
    "    Cost=int(input())\n",
    "    Selling=int(input())\n",
    "    if(Cost<Selling):\n",
    "        print('\\tProfit')\n",
    "    elif(Cost>Selling):\n",
    "        print('\\tLoss')\n",
    "    elif(Cost==Selling):\n",
    "        print('\\tNeither')\n",
    "    else:\n",
    "        print('Please.....Enter amount in numbers')"
   ]
  }
 ],
 "metadata": {
  "kernelspec": {
   "display_name": "Python 3",
   "language": "python",
   "name": "python3"
  },
  "language_info": {
   "codemirror_mode": {
    "name": "ipython",
    "version": 3
   },
   "file_extension": ".py",
   "mimetype": "text/x-python",
   "name": "python",
   "nbconvert_exporter": "python",
   "pygments_lexer": "ipython3",
   "version": "3.8.3"
  }
 },
 "nbformat": 4,
 "nbformat_minor": 4
}
