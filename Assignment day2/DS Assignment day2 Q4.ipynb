{
 "cells": [
  {
   "cell_type": "code",
   "execution_count": 19,
   "metadata": {},
   "outputs": [
    {
     "name": "stdout",
     "output_type": "stream",
     "text": [
      "Input:4\n",
      "UP 5\n",
      "DOWN 3\n",
      "LEFT 3\n",
      "RIGHT 2\n",
      "Output: 2\n"
     ]
    }
   ],
   "source": [
    "import math\n",
    "\n",
    "n=int(input('Input:'))\n",
    "\n",
    "UP=int(input('UP '))\n",
    "DOWN=int(input('DOWN '))\n",
    "DOWN=DOWN\n",
    "LEFT=int(input('LEFT '))\n",
    "LEFT=LEFT\n",
    "RIGHT=int(input('RIGHT '))\n",
    "x=UP-DOWN\n",
    "y=LEFT-RIGHT\n",
    "print('Output:',int(math.sqrt((x)**2 + (y)**2)))"
   ]
  }
 ],
 "metadata": {
  "kernelspec": {
   "display_name": "Python 3",
   "language": "python",
   "name": "python3"
  },
  "language_info": {
   "codemirror_mode": {
    "name": "ipython",
    "version": 3
   },
   "file_extension": ".py",
   "mimetype": "text/x-python",
   "name": "python",
   "nbconvert_exporter": "python",
   "pygments_lexer": "ipython3",
   "version": "3.8.3"
  }
 },
 "nbformat": 4,
 "nbformat_minor": 4
}
