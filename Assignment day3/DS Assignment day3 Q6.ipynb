{
 "cells": [
  {
   "cell_type": "code",
   "execution_count": 1,
   "metadata": {},
   "outputs": [],
   "source": [
    "import numpy as np"
   ]
  },
  {
   "cell_type": "code",
   "execution_count": 22,
   "metadata": {},
   "outputs": [
    {
     "name": "stdout",
     "output_type": "stream",
     "text": [
      "Unique Values: [10 20 30 40 50 80] \n",
      " Values Count: [0 4 2 3 1 5]\n"
     ]
    }
   ],
   "source": [
    "arr=np.array([10,50,30,40,20,80,30,30,40,40,50,50,50,40,10,20,40,50])\n",
    "uniqueV, countC = np.unique(arr, return_index=True)\n",
    "print('Unique Values:',uniqueV,'\\n','Values Count:', countC)"
   ]
  }
 ],
 "metadata": {
  "kernelspec": {
   "display_name": "Python 3",
   "language": "python",
   "name": "python3"
  },
  "language_info": {
   "codemirror_mode": {
    "name": "ipython",
    "version": 3
   },
   "file_extension": ".py",
   "mimetype": "text/x-python",
   "name": "python",
   "nbconvert_exporter": "python",
   "pygments_lexer": "ipython3",
   "version": "3.8.3"
  }
 },
 "nbformat": 4,
 "nbformat_minor": 4
}
