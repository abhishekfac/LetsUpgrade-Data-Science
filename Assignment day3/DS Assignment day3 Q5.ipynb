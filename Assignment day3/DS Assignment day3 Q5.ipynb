{
 "cells": [
  {
   "cell_type": "code",
   "execution_count": 1,
   "metadata": {},
   "outputs": [],
   "source": [
    "import numpy as np"
   ]
  },
  {
   "cell_type": "code",
   "execution_count": 16,
   "metadata": {},
   "outputs": [
    {
     "name": "stdout",
     "output_type": "stream",
     "text": [
      "[[4 5]\n",
      " [6 7]]\n",
      "[[0 1]\n",
      " [2 3]]\n",
      "Vertically\n",
      " [[4 5]\n",
      " [6 7]\n",
      " [0 1]\n",
      " [2 3]]\n",
      "Horizontally\n",
      " [[4 5 0 1]\n",
      " [6 7 2 3]]\n"
     ]
    }
   ],
   "source": [
    "arr1=np.array([[4,5],\n",
    "              [6,7]])\n",
    "print(arr1)\n",
    "arr2=np.array([[0,1],\n",
    "              [2,3]])\n",
    "print(arr2)\n",
    "print('Vertically\\n',np.vstack((arr1,arr2)))\n",
    "print('Horizontally\\n',np.hstack((arr1,arr2)))"
   ]
  }
 ],
 "metadata": {
  "kernelspec": {
   "display_name": "Python 3",
   "language": "python",
   "name": "python3"
  },
  "language_info": {
   "codemirror_mode": {
    "name": "ipython",
    "version": 3
   },
   "file_extension": ".py",
   "mimetype": "text/x-python",
   "name": "python",
   "nbconvert_exporter": "python",
   "pygments_lexer": "ipython3",
   "version": "3.8.3"
  }
 },
 "nbformat": 4,
 "nbformat_minor": 4
}
